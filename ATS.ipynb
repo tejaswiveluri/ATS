{
 "cells": [
  {
   "cell_type": "code",
   "execution_count": 1,
   "metadata": {},
   "outputs": [
    {
     "name": "stdout",
     "output_type": "stream",
     "text": [
      "Collecting docx2txt\n",
      "  Downloading docx2txt-0.8.tar.gz (2.8 kB)\n",
      "Building wheels for collected packages: docx2txt\n",
      "  Building wheel for docx2txt (setup.py): started\n",
      "  Building wheel for docx2txt (setup.py): finished with status 'done'\n",
      "  Created wheel for docx2txt: filename=docx2txt-0.8-py3-none-any.whl size=3969 sha256=0ca7b1c96adfa9ff4a9b375895dd2173fa4447c5eb767acb06543a4394b95efb\n",
      "  Stored in directory: c:\\users\\tejaswi\\appdata\\local\\pip\\cache\\wheels\\55\\f0\\2c\\81637d42670985178b77df6d41b9b6c6dc18c94818447414b9\n",
      "Successfully built docx2txt\n",
      "Installing collected packages: docx2txt\n",
      "Successfully installed docx2txt-0.8\n",
      "Note: you may need to restart the kernel to use updated packages.\n"
     ]
    }
   ],
   "source": [
    "pip install docx2txt"
   ]
  },
  {
   "cell_type": "code",
   "execution_count": 2,
   "metadata": {},
   "outputs": [],
   "source": [
    "import docx2txt"
   ]
  },
  {
   "cell_type": "code",
   "execution_count": 21,
   "metadata": {},
   "outputs": [],
   "source": [
    "#load Resume of application\n",
    "resume= docx2txt.process(\"Resume_offline.docx\")\n"
   ]
  },
  {
   "cell_type": "code",
   "execution_count": 22,
   "metadata": {},
   "outputs": [
    {
     "name": "stdout",
     "output_type": "stream",
     "text": [
      "Responsibilities / Essential Functions\n",
      "\n",
      "\n",
      "This junior profession will, over time, strengthen their current skills necessary to manage long term Sourcing plans for multiple LOB’s, delivering best in class service in each phase of Global Atlantic’s Sourcing Life Cycle (strategy, assessment & selection, contract management and governance).\n",
      "\n",
      "Support the Sourcing team as a management discipline that partners with LOB leaders to guide financial strength, identify and manage risk, and performance for Global Atlantic’s LOB areas.\n",
      "\n",
      "Work outside your assigned LOB to support Sourcing team projects and initiatives.\n",
      "\n",
      "Identify areas for improvement to enhance overall service provider inventory management and leverage spend with preferred service providers.\n",
      "\n",
      "Participant in cross functional Sourcing teams to support the overall Sourcing process.\n",
      "\n",
      "Build strong working relationships with business area personnel, SPs and industry counterparts.\n",
      "\n",
      "Identify and coordinate contract renewals on a subset of active Global Atlantic contracts\n",
      "\n",
      "Produce necessary monthly reports key to Global Atlantic’s Sourcing measurements and success\n",
      "\n",
      "Essential Skills & Experience\n",
      "\n",
      "\n",
      "Strong Analytic skills are necessary; you must be curious and have the inner drive to identify and solve challenges with data and analytics\n",
      "\n",
      "2+ years professional Sourcing and/or Vendor Management experience.\n",
      "\n",
      "Bachelor’s degree in Finance, Business, Operations Management degree preferred.\n",
      "\n",
      "Experience in a previous Sourcing role and/or organization preferred\n",
      "\n",
      "Experience in Life & Annuity insurance segments an advantage.\n",
      "\n",
      "Business Process Outsourcing or Third-Party Administrator experience preferred.\n",
      "\n",
      "Exhibits natural curiosity and critical thinking which anticipates, recognizes, identifies and develops sourcing solutions to problems in a timely manner.\n",
      "\n",
      "Strong planning, organizational and time management skills.\n",
      "\n",
      "Comfortable asking for additional work and seeking learning opportunities.\n",
      "\n",
      "Comfortable communicating with all roles and titles across the organization.\n",
      "\n",
      "Ability to influence others through strong written and verbal communication skills.\n",
      "\n",
      "Confident in holding oneself and others accountable to exacting standards.\n",
      "\n",
      "Able to accept new ideas and embrace fast changing business environment and prioritization.\n",
      "\n",
      "Displays the ability to maintain cooperative relationships at all levels of the organization, despite differing perspectives.\n",
      "\n",
      "Dedicated to meeting the expectations and requirements of internal customers.\n",
      "\n",
      "Demonstrates well developed negotiating techniques to achieve business goals.\n",
      "\n",
      "Various jurisdictions have passed pay transparency laws that require companies provide salary ranges for any positions for which they are accepting applications. Global Atlantic has offices in Atlanta, Batesville, Bermuda, Berwyn, Boston, Des Moines, Hartford, Indianapolis, and New York City. The base salary range posted below is inclusive of the lowest cost of living geography to the highest in which we have a Global Atlantic office.\n",
      "\n",
      "Global Atlantic’s base salary range is determined through an analysis of similar positions in the external labor market. Base pay is just one component of Global Atlantic’s total compensation package for employees and at times we hire outside the boundaries of the salary range. Other rewards may include annual cash bonuses, long-term incentives (equity), generous benefits (including immediate vesting on employee contributions to a 401(k)), as well as a company match on your contributions), and sales incentives. Actual compensation for all roles will be based upon geographic location, work experience, education, licensure requirements and/or skill level and will be finalized at the time of offer. Compensation for our more senior positions have a larger component of short-term cash bonus and long-term incentives. The base salary range for this role is $49,813 to $83,021.\n"
     ]
    }
   ],
   "source": [
    "job_description=docx2txt.process(\"jd.docx\")\n",
    "print(job_description)"
   ]
  },
  {
   "cell_type": "code",
   "execution_count": 6,
   "metadata": {},
   "outputs": [],
   "source": [
    "# list of text to store resume and Job desc\n",
    "text=[resume,job_description]"
   ]
  },
  {
   "cell_type": "code",
   "execution_count": 7,
   "metadata": {},
   "outputs": [],
   "source": [
    "from sklearn.feature_extraction.text import CountVectorizer\n",
    "cv=CountVectorizer()\n",
    "count_matrix=cv.fit_transform(text)"
   ]
  },
  {
   "cell_type": "code",
   "execution_count": 9,
   "metadata": {},
   "outputs": [
    {
     "name": "stdout",
     "output_type": "stream",
     "text": [
      "[[1.         0.63944851]\n",
      " [0.63944851 1.        ]]\n"
     ]
    }
   ],
   "source": [
    "from sklearn.metrics.pairwise import cosine_similarity\n",
    "print(cosine_similarity(count_matrix))\n"
   ]
  },
  {
   "cell_type": "code",
   "execution_count": 19,
   "metadata": {},
   "outputs": [
    {
     "name": "stdout",
     "output_type": "stream",
     "text": [
      "63.94\n"
     ]
    }
   ],
   "source": [
    "match=cosine_similarity(count_matrix)[0][1]\n",
    "match=match*100\n",
    "match=round(match,2)\n",
    "print(match)"
   ]
  },
  {
   "cell_type": "code",
   "execution_count": 20,
   "metadata": {},
   "outputs": [
    {
     "name": "stdout",
     "output_type": "stream",
     "text": [
      "Good Match\n"
     ]
    }
   ],
   "source": [
    "if(match>60):\n",
    "    if(match>80):\n",
    "        print(\"Perfect Match\")\n",
    "    else:\n",
    "        print(\"Good Match\")\n",
    "else:\n",
    "    print(\"Application Rejected\")"
   ]
  },
  {
   "cell_type": "code",
   "execution_count": null,
   "metadata": {},
   "outputs": [],
   "source": []
  }
 ],
 "metadata": {
  "kernelspec": {
   "display_name": "Python 3",
   "language": "python",
   "name": "python3"
  },
  "language_info": {
   "codemirror_mode": {
    "name": "ipython",
    "version": 3
   },
   "file_extension": ".py",
   "mimetype": "text/x-python",
   "name": "python",
   "nbconvert_exporter": "python",
   "pygments_lexer": "ipython3",
   "version": "3.8.5"
  }
 },
 "nbformat": 4,
 "nbformat_minor": 4
}
